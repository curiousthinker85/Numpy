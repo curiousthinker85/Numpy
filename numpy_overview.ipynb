{
 "cells": [
  {
   "cell_type": "code",
   "execution_count": 1,
   "metadata": {},
   "outputs": [],
   "source": [
    "import numpy as np"
   ]
  },
  {
   "cell_type": "code",
   "execution_count": 4,
   "metadata": {},
   "outputs": [
    {
     "name": "stdout",
     "output_type": "stream",
     "text": [
      "<class 'numpy.ndarray'>\n",
      "<class 'list'>\n"
     ]
    }
   ],
   "source": [
    "# Creation of numpy array and python list\n",
    "\n",
    "arr = np.array([1,2,3,4])\n",
    "b = [1,2,3,4]\n",
    "\n",
    "print(type(arr))\n",
    "print(type(b))"
   ]
  },
  {
   "cell_type": "code",
   "execution_count": 9,
   "metadata": {},
   "outputs": [
    {
     "name": "stdout",
     "output_type": "stream",
     "text": [
      "sum:  [ 6  8 10 12]\n",
      "product:  70\n"
     ]
    }
   ],
   "source": [
    "# addition \n",
    "a = np.array([1,2,3,4])\n",
    "b = np.array([5,6,7,8])\n",
    "\n",
    "sum = a + b\n",
    "print(\"sum: \",sum)\n",
    "\n",
    "#dot product\n",
    "product = np.dot(a,b)\n",
    "print(\"product: \", product)"
   ]
  },
  {
   "cell_type": "code",
   "execution_count": 12,
   "metadata": {},
   "outputs": [
    {
     "data": {
      "text/plain": [
       "array([[10, 10, 10],\n",
       "       [10, 10, 10],\n",
       "       [10, 10, 10]])"
      ]
     },
     "execution_count": 12,
     "metadata": {},
     "output_type": "execute_result"
    }
   ],
   "source": [
    "np.full((3,3), 10)"
   ]
  },
  {
   "attachments": {},
   "cell_type": "markdown",
   "metadata": {},
   "source": [
    "# Types of Array and it's Creation\n",
    "\n",
    "There are two main General Mechanism of creating arrays.<br>\n",
    "\n",
    "**1. Converting Python Sequences to NumPy Arrays :** <br>\n",
    "NumPy arrays can be created from various Python sequences, such as lists and tuples, where python lists are defined using square brackets eg [1, 2, 3, 4] and parentheses for tuples eg (1, 2, 3, 4). <br>\n",
    "These sequences can be used to create NumPy ndarrays with different dimensions.<br><br>\n",
    "Any array object created using NumPy is referred to as an ndarray, where the \"nd\" stands for \"n-dimensional.\" <br>\n",
    "This terminology is used to differentiate NumPy arrays from standard Python sequences such as lists and tuples.<br><br>\n",
    "**2. Array Creation Function :**<br>\n",
    "Numpy provides several functions for creating arrays with specific values or patterns<br>\n",
    "**1) np.zeros :** creates an array filled with zeros<br>\n",
    "**2) np.ones :** creates an array filled with ones<br>\n",
    "**3) np.empty :** creates an array without initializing its values (i.e., the values are uninitialized and may contain random data)<br>\n",
    "**4) np.arange :** creates an array with evenly spaced values within a specified interval<br>\n",
    "**5) np.linspace :** creates an array with a specified number of evenly spaced values within a specified interval<br>\n",
    "**6) np.logspace :** creates an array with a specified number of logarithmically spaced values within a specified interval<br>\n",
    "**7) np.full() :** creates an array of specified shape and fills it with a specified value.<br>\n",
    "**8) np.eye() :** creates an identity matrix, which is a square matrix with ones on the diagonal and zeros elsewhere<br>"
   ]
  },
  {
   "cell_type": "code",
   "execution_count": 19,
   "metadata": {},
   "outputs": [
    {
     "name": "stdout",
     "output_type": "stream",
     "text": [
      "[1 2 3 4]\n",
      "[1 2 3 4]\n",
      "[[1 2]\n",
      " [3 4]]\n",
      "[[[ 5  6]\n",
      "  [ 7  8]]\n",
      "\n",
      " [[ 9 10]\n",
      "  [11 12]]]\n"
     ]
    }
   ],
   "source": [
    "#converting python list to numpy array\n",
    "\n",
    "list1 = [1,2,3,4]\n",
    "arr1 = np.array(list1)\n",
    "print(arr1)\n",
    "\n",
    "#converting python tuple to numpy array\n",
    "\n",
    "tuple1 = (1,2,3,4)\n",
    "arr2 = np.array(tuple1)\n",
    "print(arr2)\n",
    "\n",
    "# creating 2d array\n",
    "arr3 = np.array([[1,2],[3,4]])\n",
    "print(arr3)\n",
    "\n",
    "arr4 = np.array([[[5,6],[7,8]],[[9,10],[11,12]]])\n",
    "print(arr4)"
   ]
  },
  {
   "cell_type": "code",
   "execution_count": 21,
   "metadata": {},
   "outputs": [
    {
     "data": {
      "text/plain": [
       "array([ 2,  4,  6,  8, 10, 12, 14, 16, 18, 20])"
      ]
     },
     "execution_count": 21,
     "metadata": {},
     "output_type": "execute_result"
    }
   ],
   "source": [
    "# creating multidimentional array using numpy function\n",
    "\n",
    "arr5 = np.arange(2,21,2)\n",
    "arr5"
   ]
  },
  {
   "cell_type": "code",
   "execution_count": 22,
   "metadata": {},
   "outputs": [
    {
     "data": {
      "text/plain": [
       "array([3. , 4.5, 6. , 7.5, 9. ])"
      ]
     },
     "execution_count": 22,
     "metadata": {},
     "output_type": "execute_result"
    }
   ],
   "source": [
    "np.linspace(3,9,5)"
   ]
  },
  {
   "cell_type": "code",
   "execution_count": 23,
   "metadata": {},
   "outputs": [
    {
     "data": {
      "text/plain": [
       "array([[1., 0., 0.],\n",
       "       [0., 1., 0.],\n",
       "       [0., 0., 1.]])"
      ]
     },
     "execution_count": 23,
     "metadata": {},
     "output_type": "execute_result"
    }
   ],
   "source": [
    "np.eye(3,3)"
   ]
  },
  {
   "cell_type": "code",
   "execution_count": 24,
   "metadata": {},
   "outputs": [
    {
     "data": {
      "text/plain": [
       "array([[0., 0., 0., 0.],\n",
       "       [0., 0., 0., 0.]])"
      ]
     },
     "execution_count": 24,
     "metadata": {},
     "output_type": "execute_result"
    }
   ],
   "source": [
    "np.zeros((2,4))"
   ]
  },
  {
   "cell_type": "code",
   "execution_count": 25,
   "metadata": {},
   "outputs": [
    {
     "data": {
      "text/plain": [
       "array([[1., 1., 1., 1.],\n",
       "       [1., 1., 1., 1.],\n",
       "       [1., 1., 1., 1.]])"
      ]
     },
     "execution_count": 25,
     "metadata": {},
     "output_type": "execute_result"
    }
   ],
   "source": [
    "np.ones((3,4))"
   ]
  },
  {
   "cell_type": "code",
   "execution_count": 27,
   "metadata": {},
   "outputs": [
    {
     "data": {
      "text/plain": [
       "array([[          0,           0, -1086465648],\n",
       "       [        583, -1086465200,         583],\n",
       "       [-1086465840,         583,  1752440934]])"
      ]
     },
     "execution_count": 27,
     "metadata": {},
     "output_type": "execute_result"
    }
   ],
   "source": [
    "np.empty([3,3],dtype=int)"
   ]
  },
  {
   "cell_type": "code",
   "execution_count": 28,
   "metadata": {},
   "outputs": [
    {
     "data": {
      "text/plain": [
       "array([0.52359878, 0.78539816, 1.04719755, 1.57079633])"
      ]
     },
     "execution_count": 28,
     "metadata": {},
     "output_type": "execute_result"
    }
   ],
   "source": [
    "# degree to radians\n",
    "\n",
    "trig = np.array([30,45,60,90])\n",
    "\n",
    "radian = np.deg2rad(trig)\n",
    "radian"
   ]
  },
  {
   "cell_type": "code",
   "execution_count": 29,
   "metadata": {},
   "outputs": [
    {
     "name": "stdout",
     "output_type": "stream",
     "text": [
      "[-0.98803162  0.85090352 -0.30481062  0.89399666]\n",
      "[ 0.15425145  0.52532199 -0.95241298 -0.44807362]\n"
     ]
    }
   ],
   "source": [
    "sin = np.sin(trig)\n",
    "cos = np.cos(trig)\n",
    "\n",
    "print(sin)\n",
    "print(cos)"
   ]
  },
  {
   "cell_type": "code",
   "execution_count": 35,
   "metadata": {},
   "outputs": [
    {
     "name": "stdout",
     "output_type": "stream",
     "text": [
      "1\n",
      "5\n",
      "15\n",
      "1.4142135623730951\n",
      "5\n",
      "1\n",
      "3.0\n",
      "3.0\n"
     ]
    }
   ],
   "source": [
    "# agreegation function\n",
    "\n",
    "a = np.array([1,2,3,4,5])\n",
    "print(np.min(a))\n",
    "print(np.max(a))\n",
    "print(np.sum(a))\n",
    "print(np.std(a))\n",
    "print(np.amax(a))\n",
    "print(np.amin(a))\n",
    "\n",
    "print(np.mean(a))\n",
    "print(np.median(a))"
   ]
  },
  {
   "cell_type": "code",
   "execution_count": 36,
   "metadata": {},
   "outputs": [
    {
     "data": {
      "text/plain": [
       "array([ 2,  3,  4,  6,  9, 13, 23])"
      ]
     },
     "execution_count": 36,
     "metadata": {},
     "output_type": "execute_result"
    }
   ],
   "source": [
    "b = np.array([3,4,2,6,9,23,13])\n",
    "np.sort(b)"
   ]
  },
  {
   "cell_type": "code",
   "execution_count": 38,
   "metadata": {},
   "outputs": [
    {
     "data": {
      "text/plain": [
       "array([23, 13,  9,  6,  4,  3,  2])"
      ]
     },
     "execution_count": 38,
     "metadata": {},
     "output_type": "execute_result"
    }
   ],
   "source": [
    "(np.sort(b)[::-1])"
   ]
  },
  {
   "cell_type": "code",
   "execution_count": 39,
   "metadata": {},
   "outputs": [
    {
     "data": {
      "text/plain": [
       "4"
      ]
     },
     "execution_count": 39,
     "metadata": {},
     "output_type": "execute_result"
    }
   ],
   "source": [
    "# indexing\n",
    "\n",
    "a = np.array([1,2,3,4,5,6])\n",
    "a[3]"
   ]
  },
  {
   "cell_type": "code",
   "execution_count": 41,
   "metadata": {},
   "outputs": [
    {
     "data": {
      "text/plain": [
       "2"
      ]
     },
     "execution_count": 41,
     "metadata": {},
     "output_type": "execute_result"
    }
   ],
   "source": [
    "a[1]"
   ]
  },
  {
   "cell_type": "code",
   "execution_count": 42,
   "metadata": {},
   "outputs": [
    {
     "data": {
      "text/plain": [
       "array([3, 4])"
      ]
     },
     "execution_count": 42,
     "metadata": {},
     "output_type": "execute_result"
    }
   ],
   "source": [
    "# sclicing\n",
    "\n",
    "a[2:4]"
   ]
  },
  {
   "cell_type": "code",
   "execution_count": 48,
   "metadata": {},
   "outputs": [
    {
     "data": {
      "text/plain": [
       "array([3, 5])"
      ]
     },
     "execution_count": 48,
     "metadata": {},
     "output_type": "execute_result"
    }
   ],
   "source": [
    "a[2::2]"
   ]
  },
  {
   "cell_type": "code",
   "execution_count": 44,
   "metadata": {},
   "outputs": [
    {
     "data": {
      "text/plain": [
       "6"
      ]
     },
     "execution_count": 44,
     "metadata": {},
     "output_type": "execute_result"
    }
   ],
   "source": [
    "a[-1]"
   ]
  },
  {
   "cell_type": "code",
   "execution_count": 46,
   "metadata": {},
   "outputs": [
    {
     "data": {
      "text/plain": [
       "2"
      ]
     },
     "execution_count": 46,
     "metadata": {},
     "output_type": "execute_result"
    }
   ],
   "source": [
    "b = np.array([[1,2],[3,4]])\n",
    "b[0][1]"
   ]
  },
  {
   "cell_type": "code",
   "execution_count": 47,
   "metadata": {},
   "outputs": [
    {
     "data": {
      "text/plain": [
       "4"
      ]
     },
     "execution_count": 47,
     "metadata": {},
     "output_type": "execute_result"
    }
   ],
   "source": [
    "b[1][1]"
   ]
  },
  {
   "cell_type": "code",
   "execution_count": null,
   "metadata": {},
   "outputs": [],
   "source": []
  }
 ],
 "metadata": {
  "kernelspec": {
   "display_name": "Python 3",
   "language": "python",
   "name": "python3"
  },
  "language_info": {
   "codemirror_mode": {
    "name": "ipython",
    "version": 3
   },
   "file_extension": ".py",
   "mimetype": "text/x-python",
   "name": "python",
   "nbconvert_exporter": "python",
   "pygments_lexer": "ipython3",
   "version": "3.11.2"
  },
  "orig_nbformat": 4
 },
 "nbformat": 4,
 "nbformat_minor": 2
}
